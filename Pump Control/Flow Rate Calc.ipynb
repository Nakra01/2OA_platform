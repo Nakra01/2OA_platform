{
 "cells": [
  {
   "cell_type": "code",
   "execution_count": null,
   "id": "78c8b6ff",
   "metadata": {},
   "outputs": [],
   "source": [
    "reactor_vol = 2\n",
    "\n",
    "def pump_flow(y_res_time, z_ratio):\n"
   ]
  }
 ],
 "metadata": {
  "language_info": {
   "name": "python"
  }
 },
 "nbformat": 4,
 "nbformat_minor": 5
}
