{
 "cells": [
  {
   "cell_type": "code",
   "execution_count": 19,
   "id": "bf1af9ed",
   "metadata": {},
   "outputs": [],
   "source": [
    "import pandas as pd\n",
    "\n",
    "df = pd.read_csv('doe_points.csv')\n",
    "\n",
    "reactor_vol = 2\n",
    "\n",
    "def pump_flow(y_res_time, z_ratio):\n",
    "    total_flow_rate = reactor_vol/y_res_time\n",
    "    flow_rate_a = total_flow_rate * z_ratio\n",
    "    flow_rate_b = total_flow_rate * (1-z_ratio)\n",
    "    \n",
    "    return flow_rate_a,flow_rate_b, total_flow_rate\n",
    "    \n",
    "\n",
    "df[[\"flow_rate_a\",\"flow_rate_b\",\"total_flow_rate\"]] = df.apply(lambda row: pump_flow(row[\"y_res_time\"], row[\"z_ratio\"]),\n",
    " axis=1,result_type=\"expand\"                                                               \n",
    ")\n",
    "\n",
    "df.to_csv('doe_points_with_flows.csv')\n",
    "\n"
   ]
  },
  {
   "cell_type": "code",
   "execution_count": 23,
   "id": "3e39900c",
   "metadata": {},
   "outputs": [],
   "source": [
    "df_shuffled = df.sample(frac=1)\n",
    "\n",
    "df_shuffled.to_csv('doe_points_with_flows.csv')"
   ]
  }
 ],
 "metadata": {
  "kernelspec": {
   "display_name": "pump_control",
   "language": "python",
   "name": "python3"
  },
  "language_info": {
   "codemirror_mode": {
    "name": "ipython",
    "version": 3
   },
   "file_extension": ".py",
   "mimetype": "text/x-python",
   "name": "python",
   "nbconvert_exporter": "python",
   "pygments_lexer": "ipython3",
   "version": "3.13.7"
  }
 },
 "nbformat": 4,
 "nbformat_minor": 5
}
